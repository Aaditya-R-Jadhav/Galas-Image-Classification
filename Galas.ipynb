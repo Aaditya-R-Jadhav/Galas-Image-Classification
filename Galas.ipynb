{
  "nbformat": 4,
  "nbformat_minor": 0,
  "metadata": {
    "colab": {
      "name": "Galas.ipynb",
      "provenance": [],
      "collapsed_sections": [],
      "machine_shape": "hm"
    },
    "kernelspec": {
      "name": "python3",
      "display_name": "Python 3"
    },
    "accelerator": "GPU"
  },
  "cells": [
    {
      "cell_type": "code",
      "metadata": {
        "id": "nIb42ITv73yM",
        "colab_type": "code",
        "outputId": "2c187855-3f9d-493f-c427-ba53d6e254d3",
        "colab": {
          "base_uri": "https://localhost:8080/",
          "height": 81
        }
      },
      "source": [
        "\"\"\"\n",
        "Author: Aaditya R Jadhav\n",
        "\"\"\"\n",
        "\n",
        "import numpy as np\n",
        "import pandas as pd\n",
        "from matplotlib.image import imread\n",
        "import matplotlib.pyplot as plt\n",
        "import cv2, os, glob\n",
        "from PIL import Image\n",
        "from zipfile import ZipFile\n",
        "\n",
        "from sklearn.model_selection import train_test_split\n",
        "from sklearn.metrics import f1_score\n",
        "from sklearn.preprocessing import LabelEncoder\n",
        "\n",
        "import keras\n",
        "from keras.preprocessing.image import ImageDataGenerator\n",
        "from keras.layers import Conv2D,Dense,BatchNormalization,MaxPool2D,Dropout,Flatten,Input,LeakyReLU,GlobalMaxPool2D\n",
        "from keras.models import Model\n",
        "from keras.utils import to_categorical\n",
        "from keras import backend as K\n",
        "from keras.optimizers import Adam\n",
        "from keras.applications import VGG16,Xception,InceptionResNetV2,NASNetLarge\n",
        "from keras.callbacks import ModelCheckpoint,ReduceLROnPlateau\n",
        "\n",
        "import tensorflow as tf\n",
        "from tensorflow.python.util import deprecation\n",
        "deprecation._PRINT_DEPRECATION_WARNINGS = False"
      ],
      "execution_count": 0,
      "outputs": [
        {
          "output_type": "stream",
          "text": [
            "Using TensorFlow backend.\n"
          ],
          "name": "stderr"
        },
        {
          "output_type": "display_data",
          "data": {
            "text/html": [
              "<p style=\"color: red;\">\n",
              "The default version of TensorFlow in Colab will switch to TensorFlow 2.x on the 27th of March, 2020.<br>\n",
              "We recommend you <a href=\"https://www.tensorflow.org/guide/migrate\" target=\"_blank\">upgrade</a> now\n",
              "or ensure your notebook will continue to use TensorFlow 1.x via the <code>%tensorflow_version 1.x</code> magic:\n",
              "<a href=\"https://colab.research.google.com/notebooks/tensorflow_version.ipynb\" target=\"_blank\">more info</a>.</p>\n"
            ],
            "text/plain": [
              "<IPython.core.display.HTML object>"
            ]
          },
          "metadata": {
            "tags": []
          }
        }
      ]
    },
    {
      "cell_type": "code",
      "metadata": {
        "id": "nrBpZW7bSwtS",
        "colab_type": "code",
        "colab": {}
      },
      "source": [
        "train_data = pd.read_csv(r\"/content/train.csv\")\n",
        "target = train_data.Class#.cat.codes\n",
        "train_img_lst = train_data.Image.to_list()\n",
        "train_data.Class.value_counts()\n",
        "\n",
        "test_df = pd.read_csv(r\"/content/test.csv\")\n",
        "test_img_lst = test_df.Image.to_list()\n"
      ],
      "execution_count": 0,
      "outputs": []
    },
    {
      "cell_type": "code",
      "metadata": {
        "id": "B_8aX88dRjxw",
        "colab_type": "code",
        "outputId": "c0f3d286-af2e-4180-e7f3-c941929300e5",
        "colab": {
          "base_uri": "https://localhost:8080/",
          "height": 52
        }
      },
      "source": [
        "def zip_to_data(zipname):\n",
        "  img_zip = ZipFile(\"/content/\"+str(zipname)+\".zip\",'r')\n",
        "  data = []\n",
        "  try:\n",
        "    for f1 in train_img_lst:\n",
        "      img = img_zip.extract(str(zipname)+\"/\"+f1)\n",
        "      img = cv2.imread(img)[...,::-1]\n",
        "      img = Image.fromarray(img)\n",
        "      img = img.resize((150,150),Image.BILINEAR)\n",
        "      img = np.array(img)\n",
        "      data.append(img)\n",
        "  except:\n",
        "    for f1 in test_img_lst:\n",
        "      img = img_zip.extract(str(zipname)+\"/\"+f1)\n",
        "      img = cv2.imread(img)[...,::-1]\n",
        "      img = Image.fromarray(img)\n",
        "      img = img.resize((150,150),Image.BILINEAR)\n",
        "      img = np.array(img)\n",
        "      data.append(img)\n",
        "      \n",
        "  data = np.array(data)\n",
        "  return data\n",
        "train_data = zip_to_data(\"Train Images\")\n",
        "print(\"Train Shape: \",train_data.shape)\n",
        "test_data = zip_to_data(\"Test Images\")\n",
        "print(\"Test Shape: \",test_data.shape)"
      ],
      "execution_count": 0,
      "outputs": [
        {
          "output_type": "stream",
          "text": [
            "Train Shape:  (5983, 150, 150, 3)\n",
            "Test Shape:  (3219, 150, 150, 3)\n"
          ],
          "name": "stdout"
        }
      ]
    },
    {
      "cell_type": "code",
      "metadata": {
        "id": "CmNESZVMWlJm",
        "colab_type": "code",
        "outputId": "022f4691-dbba-469e-e998-4b5aef61dbea",
        "colab": {
          "base_uri": "https://localhost:8080/",
          "height": 304
        }
      },
      "source": [
        "train_data.shape\n",
        "plt.imshow(train_data[-1]),plt.imshow(test_data[-1])"
      ],
      "execution_count": 0,
      "outputs": [
        {
          "output_type": "execute_result",
          "data": {
            "text/plain": [
              "(<matplotlib.image.AxesImage at 0x7f45f8ba0048>,\n",
              " <matplotlib.image.AxesImage at 0x7f45f8ba0320>)"
            ]
          },
          "metadata": {
            "tags": []
          },
          "execution_count": 5
        },
        {
          "output_type": "display_data",
          "data": {
            "image/png": "[encoded data removed]",
            "text/plain": [
              "<Figure size 432x288 with 1 Axes>"
            ]
          },
          "metadata": {
            "tags": []
          }
        }
      ]
    },
    {
      "cell_type": "code",
      "metadata": {
        "id": "-UgtzIFOUgJf",
        "colab_type": "code",
        "outputId": "5550b1e8-ed4d-4919-9b34-636c2bea5325",
        "colab": {
          "base_uri": "https://localhost:8080/",
          "height": 52
        }
      },
      "source": [
        "NUM_CLASSES =4\n",
        "train_x,test_x,train_y,test_y = train_test_split(train_data, target, test_size=0.001, stratify = target,random_state = 42)\n",
        "train_x = np.array(train_data)\n",
        "train_y = np.array(target)\n",
        "print(train_x.shape)\n",
        "print(target.shape)\n",
        "train_x = train_x.astype('float32')/255.0\n",
        "test_x = test_x.astype('float32')/255.0\n",
        "\n",
        "Label_encdr = LabelEncoder()\n",
        "train_y = Label_encdr.fit_transform(train_y)\n",
        "test_y = Label_encdr.transform(test_y)\n",
        "train_y = to_categorical(train_y, num_classes=NUM_CLASSES)\n",
        "test_y = to_categorical(test_y, num_classes=NUM_CLASSES)"
      ],
      "execution_count": 0,
      "outputs": [
        {
          "output_type": "stream",
          "text": [
            "(5983, 150, 150, 3)\n",
            "(5983,)\n"
          ],
          "name": "stdout"
        }
      ]
    },
    {
      "cell_type": "code",
      "metadata": {
        "id": "LDcGairkY5rb",
        "colab_type": "code",
        "outputId": "cd21e2bb-2404-42c9-955b-1a7b4449967a",
        "colab": {
          "base_uri": "https://localhost:8080/",
          "height": 34
        }
      },
      "source": [
        "train_x.shape,train_y.shape"
      ],
      "execution_count": 0,
      "outputs": [
        {
          "output_type": "execute_result",
          "data": {
            "text/plain": [
              "((5983, 150, 150, 3), (5983, 4))"
            ]
          },
          "metadata": {
            "tags": []
          },
          "execution_count": 7
        }
      ]
    },
    {
      "cell_type": "code",
      "metadata": {
        "id": "_eD6PqEod_lN",
        "colab_type": "code",
        "colab": {}
      },
      "source": [
        "datagen_train = ImageDataGenerator(\t#rescale=1./255.0,\n",
        "                                    rotation_range=10,\n",
        "                                    zoom_range=0.15,\n",
        "                                    width_shift_range=0.2,\n",
        "                                    height_shift_range=0.2,\n",
        "                                    shear_range=0.15,\n",
        "                                    horizontal_flip=True,\n",
        "                                    fill_mode=\"nearest\"\n",
        "                                   )\n",
        "# balanced_gen = BalancedDataGenerator(train_x, train_y, datagen_train, batch_size=128)\n",
        "# steps_per_epoch = balanced_gen.steps_per_epoch\n",
        "datagen_train.fit(train_x)"
      ],
      "execution_count": 0,
      "outputs": []
    },
    {
      "cell_type": "code",
      "metadata": {
        "id": "zf6axuv95upI",
        "colab_type": "code",
        "outputId": "617c3bef-5be1-4967-8f81-ed261b63a8be",
        "colab": {
          "base_uri": "https://localhost:8080/",
          "height": 407
        }
      },
      "source": [
        "input_layer = Input((150,150,3))\n",
        "\n",
        "xcep = Xception(weights = 'imagenet',include_top = False,pooling = 'avg')\n",
        "for layers in xcep.layers[:60]:\n",
        "  layers.trainable = False\n",
        "\n",
        "# IncepRes = InceptionResNetV2(input_tensor = input_layer,weights = 'imagenet',include_top = False)\n",
        "# for layers in IncepRes.layers[:400]:\n",
        "#   layers.trainable = False\n",
        "# x = IncepRes.output\n",
        "\n",
        "# VG16 = VGG16(input_shape = (150,150,3),include_top = False)\n",
        "# for layers in VG16.layers[:5]:\n",
        "#   layers.trainable = False\n",
        "# x = VG16.output\n",
        "\n",
        "# resnet = ResNet50(weights = \"imagenet\",include_top = False)\n",
        "# for layers in resnet.layers[:10]:\n",
        "#   layers.trainable = False\n",
        "\n",
        "# nasnet = NASNetLarge(input_tensor = input_layer,weights='imagenet',include_top = False)\n",
        "\n",
        "x = xcep(input_layer)\n",
        "#x = GlobalMaxPool2D()(x)\n",
        "\n",
        "# x = Dense(1024)(x)\n",
        "# x = BatchNormalization()(x)\n",
        "# x = LeakyReLU()(x)\n",
        "# x = Dropout(0.5)(x)\n",
        "\n",
        "\n",
        "x = Dense(512)(x)\n",
        "x = BatchNormalization()(x)\n",
        "x = LeakyReLU()(x)\n",
        "x = Dropout(0.5)(x)\n",
        "\n",
        "\n",
        "# x = Dense(256)(x)\n",
        "# x = BatchNormalization()(x)\n",
        "# x = LeakyReLU()(x)\n",
        "# x = Dropout(0.5)(x)\n",
        "\n",
        "\n",
        "\n",
        "output_layer = Dense(4,activation = 'softmax')(x)\n",
        "\n",
        "model = Model(input_layer,output_layer)\n",
        "model.summary()"
      ],
      "execution_count": 0,
      "outputs": [
        {
          "output_type": "stream",
          "text": [
            "Model: \"model_1\"\n",
            "_________________________________________________________________\n",
            "Layer (type)                 Output Shape              Param #   \n",
            "=================================================================\n",
            "input_3 (InputLayer)         (None, 150, 150, 3)       0         \n",
            "_________________________________________________________________\n",
            "xception (Model)             (None, 2048)              20861480  \n",
            "_________________________________________________________________\n",
            "dense_1 (Dense)              (None, 512)               1049088   \n",
            "_________________________________________________________________\n",
            "batch_normalization_9 (Batch (None, 512)               2048      \n",
            "_________________________________________________________________\n",
            "leaky_re_lu_1 (LeakyReLU)    (None, 512)               0         \n",
            "_________________________________________________________________\n",
            "dropout_1 (Dropout)          (None, 512)               0         \n",
            "_________________________________________________________________\n",
            "dense_2 (Dense)              (None, 4)                 2052      \n",
            "=================================================================\n",
            "Total params: 21,914,668\n",
            "Trainable params: 16,986,412\n",
            "Non-trainable params: 4,928,256\n",
            "_________________________________________________________________\n"
          ],
          "name": "stdout"
        }
      ]
    },
    {
      "cell_type": "code",
      "metadata": {
        "id": "Y7T9aQJGY-8H",
        "colab_type": "code",
        "colab": {}
      },
      "source": [
        "def recall_m(y_true, y_pred):\n",
        "        true_positives = K.sum(K.round(K.clip(y_true * y_pred, 0, 1)))\n",
        "        possible_positives = K.sum(K.round(K.clip(y_true, 0, 1)))\n",
        "        recall = true_positives / (possible_positives + K.epsilon())\n",
        "        return recall\n",
        "\n",
        "def precision_m(y_true, y_pred):\n",
        "        true_positives = K.sum(K.round(K.clip(y_true * y_pred, 0, 1)))\n",
        "        predicted_positives = K.sum(K.round(K.clip(y_pred, 0, 1)))\n",
        "        precision = true_positives / (predicted_positives + K.epsilon())\n",
        "        return precision\n",
        "\n",
        "def f1_m(y_true, y_pred):\n",
        "    precision = precision_m(y_true, y_pred)\n",
        "    recall = recall_m(y_true, y_pred)\n",
        "    return 2*((precision*recall)/(precision+recall+K.epsilon()))\n",
        "\n",
        "def focal_loss(y_true, y_pred):\n",
        "    gamma = 2.0\n",
        "    alpha = 0.25\n",
        "    pt_1 = tf.where(tf.equal(y_true, 1), y_pred, tf.ones_like(y_pred))\n",
        "    pt_0 = tf.where(tf.equal(y_true, 0), y_pred, tf.zeros_like(y_pred))\n",
        "    return -K.sum(alpha * K.pow(1. - pt_1, gamma) * K.log(pt_1))-K.sum((1-alpha) * K.pow( pt_0, gamma) * K.log(1. - pt_0))\n",
        "opt = Adam()#lr=0.005)\n",
        "model.compile(loss = 'categorical_crossentropy',optimizer='adam', metrics = ['acc',f1_m])\n",
        "\n",
        "checkpointer = ModelCheckpoint(\"best_model.h5\",save_best_only=True, verbose=1,monitor='f1_m',mode = 'max',)\n",
        "reduce_learning_rate = ReduceLROnPlateau(monitor='loss',\n",
        "                                         factor=0.1,\n",
        "                                         patience=2,\n",
        "                                         cooldown=2,\n",
        "                                         min_lr=0.00001,\n",
        "                                         verbose=1)\n",
        "#Amodel.compile(loss = 'categorical_crossentropy',optimizer=opt, metrics = ['acc',f1_m])"
      ],
      "execution_count": 0,
      "outputs": []
    },
    {
      "cell_type": "code",
      "metadata": {
        "id": "JhrNopclf15U",
        "colab_type": "code",
        "colab": {}
      },
      "source": [
        "# import warnings filter\n",
        "from warnings import simplefilter\n",
        "# ignore all future warnings\n",
        "simplefilter(action='ignore', category=FutureWarning)\n",
        "batch_size = 128\n",
        "history = model.fit_generator(datagen_train.flow(train_x, train_y, batch_size=batch_size),\n",
        "                              #validation_data=(test_x,test_y),\n",
        "                              steps_per_epoch = 120,#np.ceil(train_x.shape[0]/batch_size),\n",
        "                              epochs = 100,\n",
        "                              callbacks = [checkpointer,reduce_learning_rate],\n",
        "                              #max_queue_size=100,\n",
        "                              workers = 8 ,# (set a proper value > 1)\n",
        "                              use_multiprocessing=True,\n",
        "                              )\n"
      ],
      "execution_count": 0,
      "outputs": []
    },
    {
      "cell_type": "code",
      "metadata": {
        "id": "yvePMkVUYWDh",
        "colab_type": "code",
        "colab": {}
      },
      "source": [
        "# Save Model\n",
        "model.save('model_'+str(round(score_list[2],5))+\".h5\")"
      ],
      "execution_count": 0,
      "outputs": []
    },
    {
      "cell_type": "code",
      "metadata": {
        "id": "owwBdDBipRL7",
        "colab_type": "code",
        "outputId": "ae2dd717-f93f-4c8f-ec39-3ec015486d84",
        "colab": {
          "base_uri": "https://localhost:8080/",
          "height": 34
        }
      },
      "source": [
        "# Predict for test cases\n",
        "test_datagen = ImageDataGenerator(rescale=1./255)\n",
        "test_datagen.fit(test_data)\n",
        "predictions = best_model.predict_generator(test_datagen.flow(test_data,batch_size = 1,shuffle = False),steps = len(test_data))\n",
        "pred = np.argmax(predictions,axis = 1)\n",
        "pred = Label_encdr.inverse_transform(pred)\n",
        "print(pred)"
      ],
      "execution_count": 0,
      "outputs": [
        {
          "output_type": "stream",
          "text": [
            "['Decorationandsignage' 'Food' 'misc' ... 'misc' 'misc' 'misc']\n"
          ],
          "name": "stdout"
        }
      ]
    },
    {
      "cell_type": "code",
      "metadata": {
        "id": "HL4Zeflo7-uv",
        "colab_type": "code",
        "colab": {}
      },
      "source": [
        "# Create Solution DataFrame\n",
        "pred_df = pd.DataFrame({\"Image\":test_df.Image,\"Class\":pred})\n",
        "pred_all_df = pd.DataFrame(predictions,columns=Label_encdr.classes_)"
      ],
      "execution_count": 0,
      "outputs": []
    },
    {
      "cell_type": "code",
      "metadata": {
        "id": "CKulmgL5V_7P",
        "colab_type": "code",
        "colab": {}
      },
      "source": [
        "# Write to csv\n",
        "pred_df.to_csv(r'/content/solution.csv',index = False)\n",
        "pred_all_df.to_csv(r'/content/pred_all.csv',index = False)"
      ],
      "execution_count": 0,
      "outputs": []
    }
  ]
}